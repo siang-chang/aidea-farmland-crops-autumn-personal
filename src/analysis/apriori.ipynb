{
 "cells": [
  {
   "cell_type": "markdown",
   "metadata": {},
   "source": [
    "# Apyori Analysis\n",
    "對最佳預測結果進行錯誤類別的關聯分析，檢查錯誤類別的混淆情況"
   ]
  },
  {
   "cell_type": "code",
   "execution_count": 8,
   "metadata": {},
   "outputs": [],
   "source": [
    "import pandas as pd\n",
    "from apyori import apriori"
   ]
  },
  {
   "cell_type": "code",
   "execution_count": 10,
   "metadata": {},
   "outputs": [],
   "source": [
    "path = '..'\n",
    "\n",
    "target = F\"{path}/outputs/train/BiT-M-R50x1_batch256_lr0.0003_fullset.pkl\""
   ]
  },
  {
   "cell_type": "markdown",
   "metadata": {},
   "source": [
    "## Analysis"
   ]
  },
  {
   "cell_type": "code",
   "execution_count": 16,
   "metadata": {},
   "outputs": [
    {
     "data": {
      "text/html": [
       "<div>\n",
       "<style scoped>\n",
       "    .dataframe tbody tr th:only-of-type {\n",
       "        vertical-align: middle;\n",
       "    }\n",
       "\n",
       "    .dataframe tbody tr th {\n",
       "        vertical-align: top;\n",
       "    }\n",
       "\n",
       "    .dataframe thead th {\n",
       "        text-align: right;\n",
       "    }\n",
       "</style>\n",
       "<table border=\"1\" class=\"dataframe\">\n",
       "  <thead>\n",
       "    <tr style=\"text-align: right;\">\n",
       "      <th></th>\n",
       "      <th>file</th>\n",
       "      <th>label</th>\n",
       "      <th>set_name</th>\n",
       "      <th>predict</th>\n",
       "      <th>predict_label</th>\n",
       "    </tr>\n",
       "  </thead>\n",
       "  <tbody>\n",
       "    <tr>\n",
       "      <th>13449</th>\n",
       "      <td>d41c1fe0-1775-4940-835a-7e18ae079267.jpg</td>\n",
       "      <td>greenonion</td>\n",
       "      <td>test</td>\n",
       "      <td>[7.358785e-05, 0.00015296991, 0.000106066844, ...</td>\n",
       "      <td>greenonion</td>\n",
       "    </tr>\n",
       "    <tr>\n",
       "      <th>13450</th>\n",
       "      <td>9e318bca-3186-4458-8ed9-b1fc53cc2952.jpg</td>\n",
       "      <td>greenonion</td>\n",
       "      <td>test</td>\n",
       "      <td>[0.00018206096, 0.00028757274, 0.00016238686, ...</td>\n",
       "      <td>greenonion</td>\n",
       "    </tr>\n",
       "    <tr>\n",
       "      <th>13451</th>\n",
       "      <td>d2ff6ca0-7ad0-48a3-beb9-f168d527f277.jpg</td>\n",
       "      <td>greenonion</td>\n",
       "      <td>test</td>\n",
       "      <td>[0.00045041938, 0.0018955074, 0.0033849792, 0....</td>\n",
       "      <td>greenonion</td>\n",
       "    </tr>\n",
       "    <tr>\n",
       "      <th>13452</th>\n",
       "      <td>74af1a5a-c258-49de-bfbe-1ccc659d5d80.jpg</td>\n",
       "      <td>greenonion</td>\n",
       "      <td>test</td>\n",
       "      <td>[0.0006068007, 6.7271336e-05, 0.0002129048, 0....</td>\n",
       "      <td>greenonion</td>\n",
       "    </tr>\n",
       "    <tr>\n",
       "      <th>13453</th>\n",
       "      <td>495e470a-5add-4a3e-8541-7fb97214aa8c.jpg</td>\n",
       "      <td>greenonion</td>\n",
       "      <td>test</td>\n",
       "      <td>[0.00016374468, 0.00038540628, 0.00019040132, ...</td>\n",
       "      <td>greenonion</td>\n",
       "    </tr>\n",
       "  </tbody>\n",
       "</table>\n",
       "</div>"
      ],
      "text/plain": [
       "                                           file       label set_name  \\\n",
       "13449  d41c1fe0-1775-4940-835a-7e18ae079267.jpg  greenonion     test   \n",
       "13450  9e318bca-3186-4458-8ed9-b1fc53cc2952.jpg  greenonion     test   \n",
       "13451  d2ff6ca0-7ad0-48a3-beb9-f168d527f277.jpg  greenonion     test   \n",
       "13452  74af1a5a-c258-49de-bfbe-1ccc659d5d80.jpg  greenonion     test   \n",
       "13453  495e470a-5add-4a3e-8541-7fb97214aa8c.jpg  greenonion     test   \n",
       "\n",
       "                                                 predict predict_label  \n",
       "13449  [7.358785e-05, 0.00015296991, 0.000106066844, ...    greenonion  \n",
       "13450  [0.00018206096, 0.00028757274, 0.00016238686, ...    greenonion  \n",
       "13451  [0.00045041938, 0.0018955074, 0.0033849792, 0....    greenonion  \n",
       "13452  [0.0006068007, 6.7271336e-05, 0.0002129048, 0....    greenonion  \n",
       "13453  [0.00016374468, 0.00038540628, 0.00019040132, ...    greenonion  "
      ]
     },
     "execution_count": 16,
     "metadata": {},
     "output_type": "execute_result"
    }
   ],
   "source": [
    "data = pd.read_pickle(target)\n",
    "data = data[data['set_name'].eq('test')].reset_index(drop=True)\n",
    "data.tail()"
   ]
  },
  {
   "cell_type": "code",
   "execution_count": 14,
   "metadata": {},
   "outputs": [
    {
     "data": {
      "text/html": [
       "<div>\n",
       "<style scoped>\n",
       "    .dataframe tbody tr th:only-of-type {\n",
       "        vertical-align: middle;\n",
       "    }\n",
       "\n",
       "    .dataframe tbody tr th {\n",
       "        vertical-align: top;\n",
       "    }\n",
       "\n",
       "    .dataframe thead th {\n",
       "        text-align: right;\n",
       "    }\n",
       "</style>\n",
       "<table border=\"1\" class=\"dataframe\">\n",
       "  <thead>\n",
       "    <tr style=\"text-align: right;\">\n",
       "      <th></th>\n",
       "      <th>items</th>\n",
       "      <th>support</th>\n",
       "      <th>ordered_statistics</th>\n",
       "    </tr>\n",
       "  </thead>\n",
       "  <tbody>\n",
       "    <tr>\n",
       "      <th>0</th>\n",
       "      <td>(cauliflower, broccoli)</td>\n",
       "      <td>0.010331</td>\n",
       "      <td>[((broccoli), (cauliflower), 0.228995057660626...</td>\n",
       "    </tr>\n",
       "    <tr>\n",
       "      <th>1</th>\n",
       "      <td>(onion, greenonion)</td>\n",
       "      <td>0.004831</td>\n",
       "      <td>[((greenonion), (onion), 0.11796733212341198, ...</td>\n",
       "    </tr>\n",
       "    <tr>\n",
       "      <th>2</th>\n",
       "      <td>(longan, litchi)</td>\n",
       "      <td>0.004460</td>\n",
       "      <td>[((litchi), (longan), 0.1466992665036675, 4.39...</td>\n",
       "    </tr>\n",
       "    <tr>\n",
       "      <th>3</th>\n",
       "      <td>(kale, cauliflower)</td>\n",
       "      <td>0.003270</td>\n",
       "      <td>[((cauliflower), (kale), 0.10185185185185185, ...</td>\n",
       "    </tr>\n",
       "    <tr>\n",
       "      <th>4</th>\n",
       "      <td>(lettuce, chinesecabbage)</td>\n",
       "      <td>0.003122</td>\n",
       "      <td>[((chinesecabbage), (lettuce), 0.1105263157894...</td>\n",
       "    </tr>\n",
       "  </tbody>\n",
       "</table>\n",
       "</div>"
      ],
      "text/plain": [
       "                       items   support  \\\n",
       "0    (cauliflower, broccoli)  0.010331   \n",
       "1        (onion, greenonion)  0.004831   \n",
       "2           (longan, litchi)  0.004460   \n",
       "3        (kale, cauliflower)  0.003270   \n",
       "4  (lettuce, chinesecabbage)  0.003122   \n",
       "\n",
       "                                  ordered_statistics  \n",
       "0  [((broccoli), (cauliflower), 0.228995057660626...  \n",
       "1  [((greenonion), (onion), 0.11796733212341198, ...  \n",
       "2  [((litchi), (longan), 0.1466992665036675, 4.39...  \n",
       "3  [((cauliflower), (kale), 0.10185185185185185, ...  \n",
       "4  [((chinesecabbage), (lettuce), 0.1105263157894...  "
      ]
     },
     "execution_count": 14,
     "metadata": {},
     "output_type": "execute_result"
    }
   ],
   "source": [
    "association_rules = list(apriori(data[['label', 'predict_label']].values, min_support=0.003, min_lift = 1.1))\n",
    "association_rules = pd.DataFrame(association_rules).sort_values(by=['support'], ascending=False, ignore_index=True)\n",
    "association_rules"
   ]
  },
  {
   "cell_type": "code",
   "execution_count": 51,
   "metadata": {},
   "outputs": [],
   "source": [
    "association_rules.to_csv(F\"{path}/association_rules.csv\", index=False)"
   ]
  },
  {
   "cell_type": "markdown",
   "metadata": {},
   "source": [
    "## Split training data by Label"
   ]
  },
  {
   "cell_type": "code",
   "execution_count": 17,
   "metadata": {},
   "outputs": [],
   "source": [
    "# Image size for model\n",
    "image_size = 224\n",
    "\n",
    "# options: (subset, fullset)\n",
    "train_mode = 'fullset'\n",
    "\n",
    "# options: (crop70xy, correct_by_rule, crop70xy_correct_by_rule)\n",
    "image_preprocessing_method =\"crop70xy_correct_by_rule\""
   ]
  },
  {
   "cell_type": "code",
   "execution_count": 4,
   "metadata": {},
   "outputs": [
    {
     "data": {
      "text/html": [
       "<div>\n",
       "<style scoped>\n",
       "    .dataframe tbody tr th:only-of-type {\n",
       "        vertical-align: middle;\n",
       "    }\n",
       "\n",
       "    .dataframe tbody tr th {\n",
       "        vertical-align: top;\n",
       "    }\n",
       "\n",
       "    .dataframe thead th {\n",
       "        text-align: right;\n",
       "    }\n",
       "</style>\n",
       "<table border=\"1\" class=\"dataframe\">\n",
       "  <thead>\n",
       "    <tr style=\"text-align: right;\">\n",
       "      <th></th>\n",
       "      <th>items</th>\n",
       "      <th>support</th>\n",
       "      <th>ordered_statistics</th>\n",
       "    </tr>\n",
       "  </thead>\n",
       "  <tbody>\n",
       "    <tr>\n",
       "      <th>0</th>\n",
       "      <td>[broccoli, cauliflower]</td>\n",
       "      <td>0.010331</td>\n",
       "      <td>[OrderedStatistic(items_base=frozenset({'brocc...</td>\n",
       "    </tr>\n",
       "    <tr>\n",
       "      <th>1</th>\n",
       "      <td>[greenonion, onion]</td>\n",
       "      <td>0.004831</td>\n",
       "      <td>[OrderedStatistic(items_base=frozenset({'green...</td>\n",
       "    </tr>\n",
       "    <tr>\n",
       "      <th>2</th>\n",
       "      <td>[litchi, longan]</td>\n",
       "      <td>0.004460</td>\n",
       "      <td>[OrderedStatistic(items_base=frozenset({'litch...</td>\n",
       "    </tr>\n",
       "    <tr>\n",
       "      <th>3</th>\n",
       "      <td>[kale, cauliflower]</td>\n",
       "      <td>0.003270</td>\n",
       "      <td>[OrderedStatistic(items_base=frozenset({'cauli...</td>\n",
       "    </tr>\n",
       "    <tr>\n",
       "      <th>4</th>\n",
       "      <td>[chinesecabbage, lettuce]</td>\n",
       "      <td>0.003122</td>\n",
       "      <td>[OrderedStatistic(items_base=frozenset({'chine...</td>\n",
       "    </tr>\n",
       "  </tbody>\n",
       "</table>\n",
       "</div>"
      ],
      "text/plain": [
       "                       items   support  \\\n",
       "0    [broccoli, cauliflower]  0.010331   \n",
       "1        [greenonion, onion]  0.004831   \n",
       "2           [litchi, longan]  0.004460   \n",
       "3        [kale, cauliflower]  0.003270   \n",
       "4  [chinesecabbage, lettuce]  0.003122   \n",
       "\n",
       "                                  ordered_statistics  \n",
       "0  [OrderedStatistic(items_base=frozenset({'brocc...  \n",
       "1  [OrderedStatistic(items_base=frozenset({'green...  \n",
       "2  [OrderedStatistic(items_base=frozenset({'litch...  \n",
       "3  [OrderedStatistic(items_base=frozenset({'cauli...  \n",
       "4  [OrderedStatistic(items_base=frozenset({'chine...  "
      ]
     },
     "execution_count": 4,
     "metadata": {},
     "output_type": "execute_result"
    }
   ],
   "source": [
    "association_rules = pd.read_csv(F\"{path}/association_rules.csv\")\n",
    "association_rules['items'] = association_rules['items'].apply(lambda x: x.replace(\"frozenset({\", \"\").replace(\"})\", \"\").replace(\"'\", \"\").split(\", \"))\n",
    "association_rules"
   ]
  },
  {
   "cell_type": "code",
   "execution_count": 5,
   "metadata": {},
   "outputs": [
    {
     "name": "stdout",
     "output_type": "stream",
     "text": [
      "train: (62670, 22), valid: (13390, 22), test: (13454, 22)\n"
     ]
    }
   ],
   "source": [
    "train = pd.read_pickle(F'{path}/data/{train_mode}_train_vector_{image_size}_{image_preprocessing_method}.pkl')\n",
    "valid = pd.read_pickle(F'{path}/data/{train_mode}_valid_vector_{image_size}_{image_preprocessing_method}.pkl')\n",
    "test = pd.read_pickle(F'{path}/data/{train_mode}_test_vector_{image_size}_{image_preprocessing_method}.pkl')\n",
    "print(F\"train: {train.shape}, valid: {valid.shape}, test: {test.shape}\")"
   ]
  },
  {
   "cell_type": "code",
   "execution_count": 6,
   "metadata": {},
   "outputs": [],
   "source": [
    "for row in association_rules.itertuples():\n",
    "    sub_train = train[train['label'].isin(row.items)].reset_index(drop=True)\n",
    "    sub_valid = valid[valid['label'].isin(row.items)].reset_index(drop=True)\n",
    "    sub_test = test[test['label'].isin(row.items)].reset_index(drop=True)\n",
    "    sub_train.to_pickle(F'{path}/data/binary/{train_mode}_train_vector_{image_size}_{image_preprocessing_method}_{row.items[0]}_{row.items[1]}.pkl', protocol=4)\n",
    "    sub_valid.to_pickle(F'{path}/data/binary/{train_mode}_valid_vector_{image_size}_{image_preprocessing_method}_{row.items[0]}_{row.items[1]}.pkl', protocol=4)\n",
    "    sub_test.to_pickle(F'{path}/data/binary/{train_mode}_test_vector_{image_size}_{image_preprocessing_method}_{row.items[0]}_{row.items[1]}.pkl', protocol=4)"
   ]
  }
 ],
 "metadata": {
  "kernelspec": {
   "display_name": "Python 3.9.12 ('tensorflow-gpu')",
   "language": "python",
   "name": "python3"
  },
  "language_info": {
   "codemirror_mode": {
    "name": "ipython",
    "version": 3
   },
   "file_extension": ".py",
   "mimetype": "text/x-python",
   "name": "python",
   "nbconvert_exporter": "python",
   "pygments_lexer": "ipython3",
   "version": "3.9.12"
  },
  "orig_nbformat": 4,
  "vscode": {
   "interpreter": {
    "hash": "1fe34f43cecd3b1506669e990de3780e558c5eb6715cb313146f8f61288c7aab"
   }
  }
 },
 "nbformat": 4,
 "nbformat_minor": 2
}

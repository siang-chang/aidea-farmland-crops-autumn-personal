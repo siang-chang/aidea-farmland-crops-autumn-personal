{
  "cells": [
    {
      "cell_type": "code",
      "execution_count": 1,
      "metadata": {
        "colab": {
          "base_uri": "https://localhost:8080/"
        },
        "id": "mlsQL3an337c",
        "outputId": "80714ecd-0709-4ac4-b418-01464ffa33a6"
      },
      "outputs": [
        {
          "name": "stdout",
          "output_type": "stream",
          "text": [
            "Drive already mounted at /content/drive; to attempt to forcibly remount, call drive.mount(\"/content/drive\", force_remount=True).\n"
          ]
        }
      ],
      "source": [
        "from google.colab import drive\n",
        "drive.mount('/content/drive')"
      ]
    },
    {
      "cell_type": "markdown",
      "metadata": {
        "id": "Itb5wwxCC53c"
      },
      "source": [
        "# Farmland & Crops Keras EfficientNet"
      ]
    },
    {
      "cell_type": "markdown",
      "metadata": {
        "id": "tVI3kJmHC53g"
      },
      "source": [
        "## Import Package\n"
      ]
    },
    {
      "cell_type": "code",
      "execution_count": 46,
      "metadata": {
        "id": "NrulMg5oC53g"
      },
      "outputs": [],
      "source": [
        "import os\n",
        "import time\n",
        "import datetime\n",
        "import random\n",
        "import numpy as np\n",
        "import pandas as pd\n",
        "from tqdm import tqdm\n",
        "from matplotlib import pyplot as plt"
      ]
    },
    {
      "cell_type": "code",
      "execution_count": 47,
      "metadata": {
        "colab": {
          "base_uri": "https://localhost:8080/"
        },
        "id": "1si5T04dIL-3",
        "outputId": "ca3ec45c-0b22-4c10-f674-f8017fd95ff3"
      },
      "outputs": [
        {
          "name": "stdout",
          "output_type": "stream",
          "text": [
            "Tensorflow version 2.6.0\n"
          ]
        }
      ],
      "source": [
        "# %tensorflow_version 2.x\n",
        "import tensorflow as tf\n",
        "print(\"Tensorflow version \" + tf.__version__)"
      ]
    },
    {
      "cell_type": "markdown",
      "metadata": {
        "id": "jzibqGWxqdD_"
      },
      "source": [
        "## Enabling and testing the TPU\n",
        "\n",
        "First, you'll need to enable TPUs for the notebook:\n",
        "\n",
        "- Navigate to Edit→Notebook Settings\n",
        "- select TPU from the Hardware Accelerator drop-down\n",
        "\n",
        "Next, we'll check that we can connect to the TPU:"
      ]
    },
    {
      "cell_type": "code",
      "execution_count": 48,
      "metadata": {
        "id": "_80MDSMUIF9T"
      },
      "outputs": [],
      "source": [
        "SEED = 5397\n",
        "random.seed(SEED)\n",
        "tf.random.set_seed(SEED)\n",
        "np.random.seed(SEED)\n",
        "os.environ['PYTHONHASHSEED'] = str(SEED)\n",
        "os.environ['TF_DETERMINISTIC_OPS'] = '1'\n",
        "tf.config.set_soft_device_placement(True)"
      ]
    },
    {
      "cell_type": "code",
      "execution_count": 49,
      "metadata": {
        "colab": {
          "base_uri": "https://localhost:8080/"
        },
        "id": "u36J-4jHqXa-",
        "outputId": "fee33273-2420-4eec-d67b-166536d38ab3"
      },
      "outputs": [
        {
          "name": "stdout",
          "output_type": "stream",
          "text": [
            "Not connected to a TPU runtime. Using CPU/GPU strategy\n",
            "Found GPU at: /device:GPU:0\n",
            "Sun Sep 25 15:34:24 2022       \n",
            "+-----------------------------------------------------------------------------+\n",
            "| NVIDIA-SMI 512.59       Driver Version: 512.59       CUDA Version: 11.6     |\n",
            "|-------------------------------+----------------------+----------------------+\n",
            "| GPU  Name            TCC/WDDM | Bus-Id        Disp.A | Volatile Uncorr. ECC |\n",
            "| Fan  Temp  Perf  Pwr:Usage/Cap|         Memory-Usage | GPU-Util  Compute M. |\n",
            "|                               |                      |               MIG M. |\n",
            "|===============================+======================+======================|\n",
            "|   0  NVIDIA GeForce ... WDDM  | 00000000:01:00.0  On |                  N/A |\n",
            "|  0%   54C    P8    13W / 160W |    647MiB /  6144MiB |     10%      Default |\n",
            "|                               |                      |                  N/A |\n",
            "+-------------------------------+----------------------+----------------------+\n",
            "                                                                               \n",
            "+-----------------------------------------------------------------------------+\n",
            "| Processes:                                                                  |\n",
            "|  GPU   GI   CI        PID   Type   Process name                  GPU Memory |\n",
            "|        ID   ID                                                   Usage      |\n",
            "|=============================================================================|\n",
            "|    0   N/A  N/A      1136    C+G   C:\\Windows\\explorer.exe         N/A      |\n",
            "|    0   N/A  N/A      1872    C+G   ...batNotificationClient.exe    N/A      |\n",
            "|    0   N/A  N/A      1892    C+G   ...me\\Application\\chrome.exe    N/A      |\n",
            "|    0   N/A  N/A      4188    C+G   ...bbwe\\Microsoft.Photos.exe    N/A      |\n",
            "|    0   N/A  N/A      6052    C+G   ...root\\Office16\\WINWORD.EXE    N/A      |\n",
            "|    0   N/A  N/A      6188    C+G   ...urrent\\LogiOptionsMgr.exe    N/A      |\n",
            "|    0   N/A  N/A      9508    C+G   ...2txyewy\\TextInputHost.exe    N/A      |\n",
            "|    0   N/A  N/A     11992    C+G   ...er_engine\\wallpaper32.exe    N/A      |\n",
            "|    0   N/A  N/A     12024    C+G   ...8wekyb3d8bbwe\\GameBar.exe    N/A      |\n",
            "|    0   N/A  N/A     12152    C+G   ...\\INZONE Hub\\INZONEHub.exe    N/A      |\n",
            "|    0   N/A  N/A     12948    C+G   ...n1h2txyewy\\SearchHost.exe    N/A      |\n",
            "|    0   N/A  N/A     14324    C+G   ...lPanel\\SystemSettings.exe    N/A      |\n",
            "|    0   N/A  N/A     16532    C+G   ...zpdnekdrzrea0\\Spotify.exe    N/A      |\n",
            "|    0   N/A  N/A     17000    C+G   ...artMenuExperienceHost.exe    N/A      |\n",
            "|    0   N/A  N/A     18336    C+G   ...wekyb3d8bbwe\\Video.UI.exe    N/A      |\n",
            "|    0   N/A  N/A     19364      C   ...tensorflow-gpu\\python.exe    N/A      |\n",
            "|    0   N/A  N/A     19480    C+G   ...in7x64\\steamwebhelper.exe    N/A      |\n",
            "|    0   N/A  N/A     20156    C+G   ...e\\PhoneExperienceHost.exe    N/A      |\n",
            "|    0   N/A  N/A     20616    C+G   ...8bbwe\\Notepad\\Notepad.exe    N/A      |\n",
            "|    0   N/A  N/A     21432    C+G   ...e\\Current\\LogiOverlay.exe    N/A      |\n",
            "|    0   N/A  N/A     23000    C+G   ...werToys.PowerLauncher.exe    N/A      |\n",
            "|    0   N/A  N/A     23356    C+G   ...icrosoft VS Code\\Code.exe    N/A      |\n",
            "+-----------------------------------------------------------------------------+\n",
            "INFO:tensorflow:Using MirroredStrategy with devices ('/job:localhost/replica:0/task:0/device:GPU:0',)\n"
          ]
        }
      ],
      "source": [
        "try:\n",
        "    tpu = tf.distribute.cluster_resolver.TPUClusterResolver()\n",
        "    print(\"Device:\", tpu.master())\n",
        "    tf.config.experimental_connect_to_cluster(tpu)\n",
        "    tf.tpu.experimental.initialize_tpu_system(tpu)\n",
        "    strategy = tf.distribute.TPUStrategy(tpu)\n",
        "except ValueError:\n",
        "    print(\"Not connected to a TPU runtime. Using CPU/GPU strategy\")\n",
        "    device_name = tf.test.gpu_device_name()\n",
        "    if device_name != '/device:GPU:0':\n",
        "        raise SystemError('GPU device not found')\n",
        "    print('Found GPU at: {}'.format(device_name))\n",
        "    # Show GPU information\n",
        "    gpu_info = !nvidia-smi\n",
        "    gpu_info = '\\n'.join(gpu_info)\n",
        "    if gpu_info.find('failed') >= 0:\n",
        "        print('Not connected to a GPU')\n",
        "    else:\n",
        "        print(gpu_info)\n",
        "    strategy = tf.distribute.MirroredStrategy(devices=[\"/gpu:0\"])"
      ]
    },
    {
      "cell_type": "markdown",
      "metadata": {
        "id": "_VCI4T1vC53i"
      },
      "source": [
        "## Const & Inputs\n",
        "\n",
        "Here are all of the parameters to change for the run.\n"
      ]
    },
    {
      "cell_type": "code",
      "execution_count": 50,
      "metadata": {
        "id": "dKEopb4xC53j"
      },
      "outputs": [],
      "source": [
        "# Top level data directory. Here we assume the format of the directory conforms to the ImageFolder structure\n",
        "# path = \"/content/drive/MyDrive/Colab Notebooks/aidea-farmland-crops-autumn\"\n",
        "path = \".\"\n",
        "\n",
        "# Folder of the training data\n",
        "training_folder = 'train'\n",
        "\n",
        "# Folder of the testing data\n",
        "testing_folder = 'test'\n",
        "\n",
        "# Number of classes in the dataset\n",
        "num_classes = 33\n",
        "\n",
        "# Image size for model\n",
        "image_size = 224\n",
        "\n",
        "# Get the shape of the input layer\n",
        "input_shape = (image_size, image_size, 3)"
      ]
    },
    {
      "cell_type": "markdown",
      "metadata": {
        "id": "r8Hk_kqoC53j"
      },
      "source": [
        "## Helper Functions\n",
        "\n",
        "Before we write the code for adjusting the models, lets define a few helper functions.\n"
      ]
    },
    {
      "cell_type": "code",
      "execution_count": 67,
      "metadata": {
        "colab": {
          "base_uri": "https://localhost:8080/"
        },
        "id": "tVW1XbJnHKzS",
        "outputId": "dd2401ea-eeef-442a-d0d5-5199944842b7"
      },
      "outputs": [
        {
          "name": "stdout",
          "output_type": "stream",
          "text": [
            "Requirement already satisfied: scikit-learn in c:\\users\\siang\\anaconda3\\envs\\tensorflow-gpu\\lib\\site-packages (1.1.2)\n",
            "Requirement already satisfied: joblib>=1.0.0 in c:\\users\\siang\\anaconda3\\envs\\tensorflow-gpu\\lib\\site-packages (from scikit-learn) (1.1.0)\n",
            "Requirement already satisfied: threadpoolctl>=2.0.0 in c:\\users\\siang\\anaconda3\\envs\\tensorflow-gpu\\lib\\site-packages (from scikit-learn) (2.2.0)\n",
            "Requirement already satisfied: scipy>=1.3.2 in c:\\users\\siang\\anaconda3\\envs\\tensorflow-gpu\\lib\\site-packages (from scikit-learn) (1.7.3)\n",
            "Requirement already satisfied: numpy>=1.17.3 in c:\\users\\siang\\anaconda3\\envs\\tensorflow-gpu\\lib\\site-packages (from scikit-learn) (1.21.5)\n"
          ]
        }
      ],
      "source": [
        "!pip install -U scikit-learn\n",
        "from sklearn.metrics import accuracy_score\n",
        "from sklearn.metrics import classification_report\n",
        "\n",
        "def evaluate(y_true, y_pred,zero_division = 1):\n",
        "    labels = sorted(list(set(y_true + y_pred)))\n",
        "    eval_result = classification_report(\n",
        "        y_true, y_pred, target_names=labels, \n",
        "        output_dict=True, zero_division=zero_division\n",
        "    )['weighted avg']\n",
        "    return eval_result"
      ]
    },
    {
      "cell_type": "code",
      "execution_count": 7,
      "metadata": {
        "id": "mPpr8b4NFX_l"
      },
      "outputs": [],
      "source": [
        "import smtplib\n",
        "from email.mime.text import MIMEText\n",
        "from email.mime.multipart import MIMEMultipart\n",
        "from email.mime.application import MIMEApplication\n",
        "\n",
        "def send_mail(receiver, title, message):\n",
        "    content = MIMEMultipart()\n",
        "    content[\"subject\"] = f\"{title}\"\n",
        "    content[\"from\"] = \"siang07734@gmail.com\"\n",
        "    content[\"to\"] = receiver\n",
        "    content.attach(MIMEText(message))\n",
        "\n",
        "    # build SMTP server and send mail\n",
        "    with smtplib.SMTP(host=\"smtp.gmail.com\", port=\"587\") as smtp:\n",
        "        try:\n",
        "            smtp.ehlo()\n",
        "            smtp.starttls()\n",
        "            smtp.login(\"siang07734@gmail.com\", \"hinruqzmjacjbyzh\")\n",
        "            smtp.send_message(content)\n",
        "        except Exception as e:\n",
        "            print(\"Error message: \", e)"
      ]
    },
    {
      "cell_type": "markdown",
      "metadata": {
        "id": "FLKaCLZOHqI1"
      },
      "source": [
        "## Data Preprocessing\n",
        "\n",
        "Include: laod data, encode categorical features, split data, normalize data, and save data.\n"
      ]
    },
    {
      "cell_type": "code",
      "execution_count": 8,
      "metadata": {
        "id": "o-FA-MxzHw96"
      },
      "outputs": [],
      "source": [
        "# Whether to reprocess the data\n",
        "reprocess = False\n",
        "\n",
        "# Encoder to choose from [OneHotEncoder, LabelEncoder]\n",
        "encoder = 'OneHotEncoder'"
      ]
    },
    {
      "cell_type": "markdown",
      "metadata": {
        "id": "SF-tQ3PYHzJw"
      },
      "source": [
        "### Load Data\n",
        "The training set has been randomly split into train(85%) and valid(15%) in advance."
      ]
    },
    {
      "cell_type": "code",
      "execution_count": 9,
      "metadata": {
        "colab": {
          "base_uri": "https://localhost:8080/",
          "height": 239
        },
        "id": "6Mqvz6ublhR8",
        "outputId": "63b6f909-e000-47ed-9515-ca48136dd710"
      },
      "outputs": [
        {
          "data": {
            "text/html": [
              "<div>\n",
              "<style scoped>\n",
              "    .dataframe tbody tr th:only-of-type {\n",
              "        vertical-align: middle;\n",
              "    }\n",
              "\n",
              "    .dataframe tbody tr th {\n",
              "        vertical-align: top;\n",
              "    }\n",
              "\n",
              "    .dataframe thead th {\n",
              "        text-align: right;\n",
              "    }\n",
              "</style>\n",
              "<table border=\"1\" class=\"dataframe\">\n",
              "  <thead>\n",
              "    <tr style=\"text-align: right;\">\n",
              "      <th></th>\n",
              "      <th>file</th>\n",
              "      <th>label</th>\n",
              "      <th>shape</th>\n",
              "      <th>height</th>\n",
              "      <th>width</th>\n",
              "      <th>make</th>\n",
              "      <th>model</th>\n",
              "      <th>taken_datetime</th>\n",
              "      <th>taken_month</th>\n",
              "      <th>taken_year</th>\n",
              "      <th>taken_hour</th>\n",
              "      <th>target_fid</th>\n",
              "      <th>target_x</th>\n",
              "      <th>target_y</th>\n",
              "      <th>county_name</th>\n",
              "      <th>town_name</th>\n",
              "      <th>town_x</th>\n",
              "      <th>town_y</th>\n",
              "    </tr>\n",
              "    <tr>\n",
              "      <th>set_name</th>\n",
              "      <th></th>\n",
              "      <th></th>\n",
              "      <th></th>\n",
              "      <th></th>\n",
              "      <th></th>\n",
              "      <th></th>\n",
              "      <th></th>\n",
              "      <th></th>\n",
              "      <th></th>\n",
              "      <th></th>\n",
              "      <th></th>\n",
              "      <th></th>\n",
              "      <th></th>\n",
              "      <th></th>\n",
              "      <th></th>\n",
              "      <th></th>\n",
              "      <th></th>\n",
              "      <th></th>\n",
              "    </tr>\n",
              "  </thead>\n",
              "  <tbody>\n",
              "    <tr>\n",
              "      <th>test</th>\n",
              "      <td>3397</td>\n",
              "      <td>3397</td>\n",
              "      <td>3397</td>\n",
              "      <td>3397</td>\n",
              "      <td>3397</td>\n",
              "      <td>2094</td>\n",
              "      <td>2094</td>\n",
              "      <td>2061</td>\n",
              "      <td>2061</td>\n",
              "      <td>2061</td>\n",
              "      <td>2061</td>\n",
              "      <td>3397</td>\n",
              "      <td>3397</td>\n",
              "      <td>3397</td>\n",
              "      <td>3397</td>\n",
              "      <td>3397</td>\n",
              "      <td>3397</td>\n",
              "      <td>3397</td>\n",
              "    </tr>\n",
              "    <tr>\n",
              "      <th>train</th>\n",
              "      <td>15656</td>\n",
              "      <td>15656</td>\n",
              "      <td>15656</td>\n",
              "      <td>15656</td>\n",
              "      <td>15656</td>\n",
              "      <td>9751</td>\n",
              "      <td>9754</td>\n",
              "      <td>9601</td>\n",
              "      <td>9601</td>\n",
              "      <td>9601</td>\n",
              "      <td>9601</td>\n",
              "      <td>15656</td>\n",
              "      <td>15656</td>\n",
              "      <td>15656</td>\n",
              "      <td>15656</td>\n",
              "      <td>15656</td>\n",
              "      <td>15656</td>\n",
              "      <td>15656</td>\n",
              "    </tr>\n",
              "    <tr>\n",
              "      <th>valid</th>\n",
              "      <td>3310</td>\n",
              "      <td>3310</td>\n",
              "      <td>3310</td>\n",
              "      <td>3310</td>\n",
              "      <td>3310</td>\n",
              "      <td>2073</td>\n",
              "      <td>2074</td>\n",
              "      <td>2044</td>\n",
              "      <td>2044</td>\n",
              "      <td>2044</td>\n",
              "      <td>2044</td>\n",
              "      <td>3310</td>\n",
              "      <td>3310</td>\n",
              "      <td>3310</td>\n",
              "      <td>3310</td>\n",
              "      <td>3310</td>\n",
              "      <td>3310</td>\n",
              "      <td>3310</td>\n",
              "    </tr>\n",
              "  </tbody>\n",
              "</table>\n",
              "</div>"
            ],
            "text/plain": [
              "           file  label  shape  height  width  make  model  taken_datetime  \\\n",
              "set_name                                                                    \n",
              "test       3397   3397   3397    3397   3397  2094   2094            2061   \n",
              "train     15656  15656  15656   15656  15656  9751   9754            9601   \n",
              "valid      3310   3310   3310    3310   3310  2073   2074            2044   \n",
              "\n",
              "          taken_month  taken_year  taken_hour  target_fid  target_x  target_y  \\\n",
              "set_name                                                                        \n",
              "test             2061        2061        2061        3397      3397      3397   \n",
              "train            9601        9601        9601       15656     15656     15656   \n",
              "valid            2044        2044        2044        3310      3310      3310   \n",
              "\n",
              "          county_name  town_name  town_x  town_y  \n",
              "set_name                                          \n",
              "test             3397       3397    3397    3397  \n",
              "train           15656      15656   15656   15656  \n",
              "valid            3310       3310    3310    3310  "
            ]
          },
          "execution_count": 9,
          "metadata": {},
          "output_type": "execute_result"
        }
      ],
      "source": [
        "# fullset = pd.read_csv(f'{path}/data/fullset.csv')\n",
        "# fullset.groupby('set_name').count()\n",
        "subset = pd.read_pickle(F'{path}/data/subset.pkl')\n",
        "subset.groupby('set_name').count()"
      ]
    },
    {
      "cell_type": "code",
      "execution_count": 10,
      "metadata": {
        "id": "rvh61T-6lhR8"
      },
      "outputs": [],
      "source": [
        "# train = fullset[fullset['set_name'].eq('train')].reset_index(drop=True)\n",
        "# valid = fullset[fullset['set_name'].eq('valid')].reset_index(drop=True)\n",
        "# test = pd.read_csv(F'{path}/data/describe(test).csv')\n",
        "# test = pd.DataFrame({'filename': [f for f in os.listdir(f'{path}/data/{testing_folder}') if os.path.isfile(os.path.join(f'{path}/data/{testing_folder}', f))]})\n",
        "# train = subset[subset['set_name'].eq('train')].reset_index(drop=True)\n",
        "# valid = subset[subset['set_name'].eq('valid')].reset_index(drop=True)\n",
        "# test = subset[subset['set_name'].eq('test')].reset_index(drop=True)\n",
        "# print(F\"train: {train.shape}, valid: {valid.shape}, test: {test.shape}\")"
      ]
    },
    {
      "cell_type": "markdown",
      "metadata": {
        "id": "nfiovuxHlhR8"
      },
      "source": [
        "We can choose to process the data from scratch, or read data that has already been processed."
      ]
    },
    {
      "cell_type": "code",
      "execution_count": 11,
      "metadata": {
        "id": "Q-3zxfWtU8n2"
      },
      "outputs": [],
      "source": [
        "if(reprocess):\n",
        "    tqdm.pandas()\n",
        "    train[\"vector\"] = train.progress_apply(lambda row: load_image_and_resize(F'D:/Dataset/aidea-farmland-crops-autumn/train/{row[\"label\"]}/{row[\"file\"]}', new_size=224, resize_method=\"resize\"), axis=1)\n",
        "    pd.to_pickle(train, F'{path}/data/subset_train_vector_224.pkl', protocol=4)\n",
        "    tqdm.pandas()\n",
        "    valid[\"vector\"] = valid.progress_apply(lambda row: load_image_and_resize(F'D:/Dataset/aidea-farmland-crops-autumn/train/{row[\"label\"]}/{row[\"file\"]}', new_size=224, resize_method=\"resize\"), axis=1)\n",
        "    pd.to_pickle(valid, F'{path}/data/subset_valid_vector_224.pkl', protocol=4)\n",
        "    tqdm.pandas()\n",
        "    test[\"vector\"] = test.progress_apply(lambda row: load_image_and_resize(F'D:/Dataset/aidea-farmland-crops-autumn/train/{row[\"label\"]}/{row[\"file\"]}', new_size=224, resize_method=\"resize\"), axis=1)\n",
        "    pd.to_pickle(test, F'{path}/data/subset_test_vector_224.pkl', protocol=4)\n",
        "else:\n",
        "    train = pd.read_pickle(F'{path}/data/subset_train_vector_224.pkl')\n",
        "    valid = pd.read_pickle(F'{path}/data/subset_valid_vector_224.pkl')\n",
        "    test = pd.read_pickle(F'{path}/data/subset_test_vector_224.pkl')"
      ]
    },
    {
      "cell_type": "markdown",
      "metadata": {
        "id": "wNgmdrpjI_JR"
      },
      "source": [
        "### Encode categorical features\n",
        "\n",
        "OneHotEncoder or LabelEncoder.\n"
      ]
    },
    {
      "cell_type": "code",
      "execution_count": 12,
      "metadata": {
        "id": "uIhy4SqXC53o"
      },
      "outputs": [],
      "source": [
        "if(encoder == 'OneHotEncoder'):\n",
        "    from sklearn.preprocessing import OneHotEncoder\n",
        "    enc = OneHotEncoder(handle_unknown='ignore')\n",
        "    enc.fit(subset['label'].values.reshape(-1, 1))\n",
        "    train['class'] = list(np.array(enc.transform(train['label'].values.reshape(-1, 1)).toarray().tolist()))\n",
        "    valid['class'] = list(np.array(enc.transform(valid['label'].values.reshape(-1, 1)).toarray().tolist()))\n",
        "    test['class'] = list(np.array(enc.transform(test['label'].values.reshape(-1, 1)).toarray().tolist()))\n",
        "elif(encoder == 'LabelEncoder'):\n",
        "    from sklearn.preprocessing import LabelEncoder\n",
        "    enc = LabelEncoder()\n",
        "    enc.fit(subset['category'].values)\n",
        "    train['class'] = np.array(enc.transform(train['label'].values))\n",
        "    valid['class'] = np.array(enc.transform(valid['label'].values))\n",
        "    test['class'] = np.array(enc.transform(test['label'].values))"
      ]
    },
    {
      "cell_type": "markdown",
      "metadata": {
        "id": "5mvmMVmhU8n5"
      },
      "source": [
        "## Model Helper"
      ]
    },
    {
      "cell_type": "code",
      "execution_count": 13,
      "metadata": {
        "id": "2RyEhVPXFX_o"
      },
      "outputs": [],
      "source": [
        "from sklearn.utils import class_weight\n",
        "sample_weight = class_weight.compute_sample_weight(\n",
        "    class_weight='balanced',\n",
        "    y=list(train['class'].values)\n",
        ")"
      ]
    },
    {
      "cell_type": "code",
      "execution_count": 14,
      "metadata": {
        "id": "htprGYQ30eMp"
      },
      "outputs": [],
      "source": [
        "def get_reducelr():\n",
        "    return tf.keras.callbacks.ReduceLROnPlateau(\n",
        "        monitor='val_loss',\n",
        "        factor=np.sqrt(0.1),\n",
        "        patience=10,\n",
        "        verbose=1,\n",
        "        mode='auto',\n",
        "        min_delta=0.0001,\n",
        "        cooldown=0,\n",
        "        min_lr=0.5e-7,\n",
        "    )"
      ]
    },
    {
      "cell_type": "code",
      "execution_count": null,
      "metadata": {
        "id": "0Ls1fzbtFX_o"
      },
      "outputs": [],
      "source": [
        "def get_tensorboard(path):\n",
        "    return tf.keras.callbacks.TensorBoard(log_dir=path)"
      ]
    },
    {
      "cell_type": "code",
      "execution_count": null,
      "metadata": {
        "id": "S3lAhmC9U8n6"
      },
      "outputs": [],
      "source": [
        "def get_checkpoint(model_name, monitor):\n",
        "    return tf.keras.callbacks.ModelCheckpoint(\n",
        "        model_name,\n",
        "        monitor=monitor,\n",
        "        verbose=1,\n",
        "        save_best_only=True,\n",
        "        save_weights_only=True,\n",
        "        mode='max',\n",
        "        save_freq='epoch'\n",
        "    )"
      ]
    },
    {
      "cell_type": "code",
      "execution_count": null,
      "metadata": {
        "id": "WvlV0gDYU8n6"
      },
      "outputs": [],
      "source": [
        "def get_early_stop(patience):\n",
        "    return tf.keras.callbacks.EarlyStopping(\n",
        "        monitor=\"val_loss\",\n",
        "        mode=\"min\",\n",
        "        min_delta=0,\n",
        "        patience=patience,\n",
        "        restore_best_weights=True\n",
        "    )"
      ]
    },
    {
      "cell_type": "code",
      "execution_count": null,
      "metadata": {
        "id": "xld7WyUwFX_p"
      },
      "outputs": [],
      "source": [
        "class NotifyCallBack(tf.keras.callbacks.Callback):\n",
        "    def __init__(self, monitor='', mode='max', patience=5, title=''):\n",
        "        self.monitor = monitor\n",
        "        self.mode = mode\n",
        "        self.patience = patience\n",
        "        self.title = title\n",
        "        \n",
        "    def on_train_begin(self, logs = None):\n",
        "        self.history = [] #Initializing the list of losses\n",
        "\n",
        "    def on_epoch_begin(self, epoch, logs = None):\n",
        "        pass\n",
        "\n",
        "    def on_epoch_end(self, epoch, logs = None):\n",
        "        self.history.append(logs)\n",
        "        if(epoch%self.patience==0):\n",
        "            history = pd.DataFrame(self.history)\n",
        "            if(self.mode=='max'):\n",
        "                message = f\"Currently executed to {epoch}'s EPOCH, the `{self.monitor}` of model is {history[self.monitor].max()}.\"\n",
        "            else:\n",
        "                message = f\"Currently executed to {epoch}'s EPOCH, the `{self.monitor}` of model is {history[self.monitor].min()}.\"\n",
        "            send_mail(\"siang07734@gmail.com\", self.title, message)\n",
        "            \n",
        "    def on_train_end(self, logs = None):\n",
        "        send_mail(\"siang07734@gmail.com\", self.title, \"The training has ended\")\n",
        "\n",
        "def get_notify(monitor, title):\n",
        "    return NotifyCallBack(monitor, 'max', 5, title)"
      ]
    },
    {
      "cell_type": "markdown",
      "metadata": {
        "id": "WxGFdRknC53q"
      },
      "source": [
        "## EfficientNet modelling + training\n",
        "\n",
        "Using EfficientNetB0~B7.\n"
      ]
    },
    {
      "cell_type": "markdown",
      "metadata": {
        "id": "Q3iJvmnUKfcs"
      },
      "source": [
        "### Initialize and Reshape the Networks\n"
      ]
    },
    {
      "cell_type": "code",
      "execution_count": 15,
      "metadata": {
        "id": "HNdTbc3n337r"
      },
      "outputs": [],
      "source": [
        "def get_augmentation():\n",
        "    augmentation = tf.keras.models.Sequential()\n",
        "    augmentation.add(tf.keras.layers.RandomContrast(factor=0.15))\n",
        "    augmentation.add(tf.keras.layers.RandomFlip('horizontal_and_vertical'))\n",
        "    augmentation.add(tf.keras.layers.RandomZoom(0.15, 0.15))\n",
        "    augmentation.add(tf.keras.layers.RandomTranslation(height_factor=0.15, width_factor=0.15))\n",
        "    augmentation.add(tf.keras.layers.RandomRotation(factor=0.15))\n",
        "    return augmentation"
      ]
    },
    {
      "cell_type": "code",
      "execution_count": 16,
      "metadata": {
        "id": "wY8vccfx337r"
      },
      "outputs": [],
      "source": [
        "def get_model(input_shape, num_classes, learning_rate=5e-04, dropout=0.2, isAugmentationActivated=False):\n",
        "    model = tf.keras.models.Sequential()\n",
        "    if(isAugmentationActivated):\n",
        "      model.add(get_augmentation())\n",
        "    model.add(tf.keras.applications.EfficientNetB0(input_shape=input_shape, include_top=False, weights='imagenet', drop_connect_rate=dropout))\n",
        "    model.add(tf.keras.layers.GlobalAveragePooling2D(name=\"avg_pool\"))\n",
        "    model.add(tf.keras.layers.Dense(units=num_classes, activation='softmax', kernel_initializer=tf.keras.initializers.he_uniform(seed=5397), name=\"pred\"))\n",
        "    optimizer = tf.keras.optimizers.Adam(learning_rate=learning_rate, beta_1=0.9, beta_2=0.999, epsilon=1e-08)\n",
        "    model.compile(optimizer=optimizer, loss='categorical_crossentropy', metrics=['categorical_accuracy'], run_eagerly=False)\n",
        "    return model  "
      ]
    },
    {
      "cell_type": "code",
      "execution_count": 17,
      "metadata": {
        "id": "PilInUaK84Fp"
      },
      "outputs": [],
      "source": [
        "def get_batch_dataset(train_vector, train_class, valid_vector, valid_class, batch_size):\n",
        "    train_ds = tf.data.Dataset.from_tensor_slices((train_vector, train_class)).shuffle(10000, seed=5397).batch(batch_size, drop_remainder=True)\n",
        "    valid_ds = tf.data.Dataset.from_tensor_slices((valid_vector, valid_class)).batch(batch_size, drop_remainder=True)\n",
        "    return train_ds, valid_ds\n",
        "def data_generator(dataframe):\n",
        "    # iter dataframe\n",
        "    for i, row in dataframe.iterrows():   \n",
        "        yield (np.array(row['vector'].tolist())), np.array(row['class'].tolist())\n",
        "def get_batch_dataset_from_generator(train, valid, input_shape, num_classes, batch_size):\n",
        "    train_ds = tf.data.Dataset.from_generator(lambda: data_generator(train.sample(frac=1).reset_index(drop=True)), \n",
        "        output_types=(tf.uint8, tf.float64), \n",
        "        output_shapes=([input_shape[0], input_shape[1], input_shape[2]], [num_classes])).batch(batch_size, drop_remainder=True)\n",
        "    valid_ds = tf.data.Dataset.from_generator(lambda: data_generator(valid),\n",
        "        output_types=(tf.uint8, tf.float64), \n",
        "        output_shapes=([input_shape[0], input_shape[1], input_shape[2]], [num_classes])).batch(batch_size, drop_remainder=True)\n",
        "    return train_ds, valid_ds"
      ]
    },
    {
      "cell_type": "markdown",
      "metadata": {
        "id": "hDrlNa-kFX_q"
      },
      "source": [
        "### Visualize data augmentation "
      ]
    },
    {
      "cell_type": "markdown",
      "metadata": {
        "id": "czvQds4tU8n8"
      },
      "source": [
        "### Modelling\n"
      ]
    },
    {
      "cell_type": "code",
      "execution_count": 18,
      "metadata": {
        "id": "za09Az1t-Ki1"
      },
      "outputs": [],
      "source": [
        "# [10, 30, 50, 100, 150]\n",
        "EPOCHS = 100\n",
        "\n",
        "# [16, 32(default), 64, 128, 256, 512, 1024]\n",
        "BATCH_SIZE = 16 * strategy.num_replicas_in_sync\n",
        "\n",
        "# learning rate\n",
        "LR_START = 5e-04\n",
        "\n",
        "DROPOUT = 0.0\n",
        "\n",
        "# Define model name\n",
        "model_name = F'subset_{input_shape[0]}_efficientnetb5_transfer_trainable_epochs{EPOCHS}_batchsize{BATCH_SIZE}_lr{LR_START}_reducelr_dropout{int(DROPOUT*100)}_sampleweight'\n",
        "# model_name = f'efficientnetb5(transfer,trainable,datagen-all-15,tpu,simple)-epochs{EPOCHS}-batchsize{BATCH_SIZE}-lr{LR_START}-reducelr-DROPOUT{int(DROPOUT*100)}-{input_shape[0]}'"
      ]
    },
    {
      "cell_type": "code",
      "execution_count": 29,
      "metadata": {
        "id": "ohu0N95X8fEm"
      },
      "outputs": [],
      "source": [
        "# Dataset to train\n",
        "train_vector, train_class = np.array(train['vector'].tolist()), np.array(train['class'].tolist()) \n",
        "valid_vector, valid_class = np.array(valid['vector'].tolist()), np.array(valid['class'].tolist()) \n",
        "train_ds, valid_ds = get_batch_dataset(train_vector, train_class, valid_vector, valid_class, BATCH_SIZE)"
      ]
    },
    {
      "cell_type": "code",
      "execution_count": 26,
      "metadata": {
        "id": "gKRhF5AR337t"
      },
      "outputs": [],
      "source": [
        "with strategy.scope():    \n",
        "    model = get_model(input_shape, num_classes, LR_START, DROPOUT, isAugmentationActivated=False)"
      ]
    },
    {
      "cell_type": "code",
      "execution_count": null,
      "metadata": {
        "colab": {
          "base_uri": "https://localhost:8080/",
          "height": 784
        },
        "id": "zKzdSXzvU8n8",
        "outputId": "aaf94ef7-6dd9-4e27-c318-05b874dfa724"
      },
      "outputs": [],
      "source": [
        "start = time.time()\n",
        "\n",
        "# Train model\n",
        "history = model.fit(\n",
        "  train_ds,\n",
        "  epochs=EPOCHS,\n",
        "  validation_data=valid_ds,\n",
        "  verbose=2,\n",
        "  # sample_weight=sample_weight,\n",
        "  callbacks=[\n",
        "    get_checkpoint(F'{path}/models/{model_name}.h5', 'val_categorical_accuracy'), \n",
        "    # get_tensorboard(F'{path}/tensorboard/{model_name}'),\n",
        "    get_early_stop(50),\n",
        "    get_reducelr(),\n",
        "    get_notify(monitor='val_categorical_accuracy', title=model_name)\n",
        "  ],\n",
        ")\n",
        "\n",
        "# Save history\n",
        "pd.DataFrame(history.history).to_csv(f'{path}/logs/{model_name}.csv', index=False)\n",
        "\n",
        "end = time.time()\n",
        "print(format(end-start))\n",
        "# get_batch_dataset_from_generator(test, valid), B0, GPU: 900s\n",
        "# get_batch_dataset(test, valid), B5, GPU: 600s\n",
        "# get_batch_dataset(test, valid), B0, GPU: 96s (第 2 次 6s)\n"
      ]
    },
    {
      "cell_type": "code",
      "execution_count": 59,
      "metadata": {
        "id": "ZS6riaT7lhSA"
      },
      "outputs": [
        {
          "name": "stdout",
          "output_type": "stream",
          "text": [
            "epochs:  52\n"
          ]
        },
        {
          "data": {
            "image/png": "[encoded data removed]",
            "text/plain": [
              "<Figure size 864x288 with 2 Axes>"
            ]
          },
          "metadata": {
            "needs_background": "light"
          },
          "output_type": "display_data"
        }
      ],
      "source": [
        "b6log = pd.read_csv(F'{path}/logs/{model_name}.csv')\n",
        "print('epochs: ',len(b6log))\n",
        "plt.figure(figsize=(12, 4))\n",
        "\n",
        "# Summarize history for accuracy\n",
        "plt.subplot(1, 2, 1)\n",
        "plt.plot(b6log['categorical_accuracy'])\n",
        "plt.plot(b6log['val_categorical_accuracy'])\n",
        "plt.title('accuracy')\n",
        "plt.ylabel('accuracy')\n",
        "plt.xlabel('epoch')\n",
        "plt.legend(['train', 'vaild'], loc='upper left') \n",
        "\n",
        "# Summarize history for loss \n",
        "plt.subplot(1, 2, 2)\n",
        "plt.plot(b6log['loss']) \n",
        "plt.plot(b6log['val_loss']) \n",
        "plt.title('loss')\n",
        "plt.ylabel('loss')\n",
        "plt.xlabel('epoch')\n",
        "plt.legend(['train', 'vaild'], loc='upper left') \n",
        "# plt.show()\n",
        "# save image\n",
        "plt.savefig(F'{path}/logs/{model_name}.jpg')"
      ]
    },
    {
      "cell_type": "markdown",
      "metadata": {
        "id": "Z1ylTb_RlhSB"
      },
      "source": [
        "### Prediction of vaild\n",
        "Prediction based on the best model during training"
      ]
    },
    {
      "cell_type": "code",
      "execution_count": 95,
      "metadata": {},
      "outputs": [],
      "source": [
        "def predict_and_evaluate(model, data_vector, data_class, encoder):\n",
        "    pred_class = model.predict(data_vector, verbose=1)\n",
        "    # Transform the encoded predictions to their actual values\n",
        "    pred_class_inverse = enc.inverse_transform(pred_class).reshape(-1)\n",
        "    true_class_inverse = enc.inverse_transform(data_class).reshape(-1)\n",
        "    # Evaluate the model\n",
        "    evaluation = evaluate(true_class_inverse.tolist(), pred_class_inverse.tolist())\n",
        "    return evaluation"
      ]
    },
    {
      "cell_type": "code",
      "execution_count": 64,
      "metadata": {
        "id": "zByYeKCwFX_s"
      },
      "outputs": [],
      "source": [
        "# Dataset to valid\n",
        "test_vector, test_class = np.array(test['vector'].tolist()), np.array(test['class'].tolist())"
      ]
    },
    {
      "cell_type": "code",
      "execution_count": 60,
      "metadata": {
        "id": "yRD-WRCFlhSB"
      },
      "outputs": [
        {
          "name": "stdout",
          "output_type": "stream",
          "text": [
            "INFO:tensorflow:Reduce to /job:localhost/replica:0/task:0/device:CPU:0 then broadcast to ('/job:localhost/replica:0/task:0/device:CPU:0',).\n",
            "INFO:tensorflow:Reduce to /job:localhost/replica:0/task:0/device:CPU:0 then broadcast to ('/job:localhost/replica:0/task:0/device:CPU:0',).\n",
            "INFO:tensorflow:Reduce to /job:localhost/replica:0/task:0/device:CPU:0 then broadcast to ('/job:localhost/replica:0/task:0/device:CPU:0',).\n",
            "INFO:tensorflow:Reduce to /job:localhost/replica:0/task:0/device:CPU:0 then broadcast to ('/job:localhost/replica:0/task:0/device:CPU:0',).\n",
            "INFO:tensorflow:Reduce to /job:localhost/replica:0/task:0/device:CPU:0 then broadcast to ('/job:localhost/replica:0/task:0/device:CPU:0',).\n",
            "INFO:tensorflow:Reduce to /job:localhost/replica:0/task:0/device:CPU:0 then broadcast to ('/job:localhost/replica:0/task:0/device:CPU:0',).\n",
            "INFO:tensorflow:Reduce to /job:localhost/replica:0/task:0/device:CPU:0 then broadcast to ('/job:localhost/replica:0/task:0/device:CPU:0',).\n",
            "INFO:tensorflow:Reduce to /job:localhost/replica:0/task:0/device:CPU:0 then broadcast to ('/job:localhost/replica:0/task:0/device:CPU:0',).\n",
            "INFO:tensorflow:Reduce to /job:localhost/replica:0/task:0/device:CPU:0 then broadcast to ('/job:localhost/replica:0/task:0/device:CPU:0',).\n",
            "INFO:tensorflow:Reduce to /job:localhost/replica:0/task:0/device:CPU:0 then broadcast to ('/job:localhost/replica:0/task:0/device:CPU:0',).\n"
          ]
        }
      ],
      "source": [
        "# Load model with the best validation accuracy\n",
        "with strategy.scope():    \n",
        "    model = get_model(input_shape, num_classes)\n",
        "    model.load_weights(f'{path}/models/{model_name}.h5')"
      ]
    },
    {
      "cell_type": "code",
      "execution_count": 92,
      "metadata": {
        "id": "gW2O36WHlhSB"
      },
      "outputs": [
        {
          "data": {
            "text/plain": [
              "{'precision': 1.0, 'recall': 1.0, 'f1-score': 1.0, 'support': 3397}"
            ]
          },
          "execution_count": 92,
          "metadata": {},
          "output_type": "execute_result"
        }
      ],
      "source": [
        "# Predict the response for valid dataset\n",
        "train_evaluation = predict_and_evaluate(model, train_vector, train_class, enc)\n",
        "train_evaluation = {F'train.{key}': value for key, value in train_evaluation.items()}\n",
        "valid_evaluation = predict_and_evaluate(model, valid_vector, valid_class, enc)\n",
        "valid_evaluation = {F'valid.{key}': value for key, value in valid_evaluation.items()}\n",
        "test_evaluation = predict_and_evaluate(model, test_vector, test_class, enc)\n",
        "test_evaluation = {F'test.{key}': value for key, value in test_evaluation.items()}\n",
        "evaluation = pd.DataFrame([{'experiment': model_name, **train_evaluation, **valid_evaluation, **test_evaluation}])\n",
        "evaluation"
      ]
    },
    {
      "cell_type": "code",
      "execution_count": 88,
      "metadata": {},
      "outputs": [
        {
          "data": {
            "text/html": [
              "<div>\n",
              "<style scoped>\n",
              "    .dataframe tbody tr th:only-of-type {\n",
              "        vertical-align: middle;\n",
              "    }\n",
              "\n",
              "    .dataframe tbody tr th {\n",
              "        vertical-align: top;\n",
              "    }\n",
              "\n",
              "    .dataframe thead th {\n",
              "        text-align: right;\n",
              "    }\n",
              "</style>\n",
              "<table border=\"1\" class=\"dataframe\">\n",
              "  <thead>\n",
              "    <tr style=\"text-align: right;\">\n",
              "      <th></th>\n",
              "      <th>experiment</th>\n",
              "      <th>precision</th>\n",
              "      <th>recall</th>\n",
              "      <th>f1-score</th>\n",
              "      <th>support</th>\n",
              "    </tr>\n",
              "  </thead>\n",
              "  <tbody>\n",
              "    <tr>\n",
              "      <th>0</th>\n",
              "      <td>subset_224_efficientnetb0_transfer_trainable_e...</td>\n",
              "      <td>1.0</td>\n",
              "      <td>1.0</td>\n",
              "      <td>1.0</td>\n",
              "      <td>3397</td>\n",
              "    </tr>\n",
              "    <tr>\n",
              "      <th>0</th>\n",
              "      <td>subset_224_efficientnetb0_transfer_trainable_e...</td>\n",
              "      <td>1.0</td>\n",
              "      <td>1.0</td>\n",
              "      <td>1.0</td>\n",
              "      <td>3397</td>\n",
              "    </tr>\n",
              "  </tbody>\n",
              "</table>\n",
              "</div>"
            ],
            "text/plain": [
              "                                          experiment  precision  recall  \\\n",
              "0  subset_224_efficientnetb0_transfer_trainable_e...        1.0     1.0   \n",
              "0  subset_224_efficientnetb0_transfer_trainable_e...        1.0     1.0   \n",
              "\n",
              "   f1-score  support  \n",
              "0       1.0     3397  \n",
              "0       1.0     3397  "
            ]
          },
          "execution_count": 88,
          "metadata": {},
          "output_type": "execute_result"
        }
      ],
      "source": [
        "evaluations = pd.read_csv(F'{path}/evaluations.csv')\n",
        "evaluations = evaluations.append(evaluation)\n",
        "evaluations.to_csv(F'{path}/evaluations.csv', index=False)"
      ]
    }
  ],
  "metadata": {
    "accelerator": "TPU",
    "colab": {
      "collapsed_sections": [
        "5mvmMVmhU8n5"
      ],
      "machine_shape": "hm",
      "provenance": []
    },
    "interpreter": {
      "hash": "1fe34f43cecd3b1506669e990de3780e558c5eb6715cb313146f8f61288c7aab"
    },
    "kernelspec": {
      "display_name": "Python 3 (ipykernel)",
      "language": "python",
      "name": "python3"
    },
    "language_info": {
      "codemirror_mode": {
        "name": "ipython",
        "version": 3
      },
      "file_extension": ".py",
      "mimetype": "text/x-python",
      "name": "python",
      "nbconvert_exporter": "python",
      "pygments_lexer": "ipython3",
      "version": "3.9.12"
    },
    "toc-autonumbering": true,
    "toc-showtags": false
  },
  "nbformat": 4,
  "nbformat_minor": 0
}
